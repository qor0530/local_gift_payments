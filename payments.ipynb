{
  "nbformat": 4,
  "nbformat_minor": 0,
  "metadata": {
    "colab": {
      "provenance": [],
      "authorship_tag": "ABX9TyPVA1u4EH3iwLx02JNl9E1L",
      "include_colab_link": true
    },
    "kernelspec": {
      "name": "python3",
      "display_name": "Python 3"
    },
    "language_info": {
      "name": "python"
    }
  },
  "cells": [
    {
      "cell_type": "markdown",
      "metadata": {
        "id": "view-in-github",
        "colab_type": "text"
      },
      "source": [
        "<a href=\"https://colab.research.google.com/github/qor0530/local_gift_payments/blob/main/payments.ipynb\" target=\"_parent\"><img src=\"https://colab.research.google.com/assets/colab-badge.svg\" alt=\"Open In Colab\"/></a>"
      ]
    },
    {
      "cell_type": "code",
      "execution_count": null,
      "metadata": {
        "id": "X02qakBYpXwo"
      },
      "outputs": [],
      "source": [
        "import requests\n",
        "\n",
        "# GET 요청을 보낼 URL을 지정합니다.\n",
        "url = 'https://example.com'\n",
        "\n",
        "# GET 요청을 보냅니다.\n",
        "response = requests.get(url)\n",
        "\n",
        "# 응답을 확인합니다.\n",
        "if response.status_code == 200:  # HTTP 상태 코드가 200이면 성공적인 요청입니다.\n",
        "    print('GET 요청 성공')\n",
        "    print('응답 내용:')\n",
        "    print(response.text)  # 응답 내용을 출력합니다.\n",
        "else:\n",
        "    print(f'GET 요청 실패. 상태 코드: {response.status_code}')"
      ]
    }
  ]
}